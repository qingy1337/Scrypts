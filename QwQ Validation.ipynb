{
 "cells": [
  {
   "cell_type": "code",
   "execution_count": null,
   "id": "3adecd59-4e6f-4f4d-83e3-2770d9075054",
   "metadata": {},
   "outputs": [],
   "source": [
    "from datasets import load_dataset\n",
    "\n",
    "ds = load_dataset(\"HuggingFaceH4/MATH-500\",split='test')"
   ]
  },
  {
   "cell_type": "code",
   "execution_count": null,
   "id": "d651b17a-970f-400f-9739-a584e72ebed2",
   "metadata": {},
   "outputs": [],
   "source": [
    "ds"
   ]
  },
  {
   "cell_type": "code",
   "execution_count": null,
   "id": "b04d20a7-c6f3-42dd-825e-20fa6478f8e3",
   "metadata": {},
   "outputs": [],
   "source": [
    "from batch_utils import create_batch # a little library I implemented, basically just interacts with OpenAI API."
   ]
  },
  {
   "cell_type": "code",
   "execution_count": null,
   "id": "e4589339-8e80-4070-8ce0-ef5df4dbacdc",
   "metadata": {},
   "outputs": [],
   "source": [
    "create_batch(\n",
    "    api_key='API-KEY',\n",
    "    prompts=ds['problem'],\n",
    "    model_name='unsloth/Qwen2.5-14B-Instruct', # unsloth's version since it isn't gated\n",
    "    output_file_name='responses/qwen.jsonl'\n",
    ")"
   ]
  },
  {
   "cell_type": "code",
   "execution_count": null,
   "id": "33b82620-e811-4ad9-a338-6f07429e6a3a",
   "metadata": {},
   "outputs": [],
   "source": [
    "create_batch(\n",
    "    api_key='API-KEY',\n",
    "    prompts=ds['problem'],\n",
    "    model_name='qingy2024/QwQ-14B-Math-v0.2',\n",
    "    output_file_name='responses/qwq.jsonl'\n",
    ")"
   ]
  },
  {
   "cell_type": "code",
   "execution_count": null,
   "id": "7e60b4a9-2949-421d-8fd6-1801e1ea3b72",
   "metadata": {},
   "outputs": [],
   "source": [
    "from iv2_utils import iv2\n",
    "qwq_outputs = iv2.jsonl_read('responses/qwq.jsonl')\n",
    "\n",
    "qwen25_outputs = iv2.jsonl_read('responses/qwen.jsonl')\n",
    "\n",
    "qwq_responses = [x['response']['body']['choices'][0]['message']['content'] for x in qwq_outputs]\n",
    "\n",
    "qwen25_responses = [x['response']['body']['choices'][0]['message']['content'] for x in qwen25_outputs]"
   ]
  },
  {
   "cell_type": "code",
   "execution_count": null,
   "id": "ae95aa41-1560-41aa-8ef4-21fc5febc2dc",
   "metadata": {},
   "outputs": [],
   "source": [
    "from iv2_utils import iv2\n",
    "\n",
    "for model in ['qwen', 'qwq']:\n",
    "    outputs = iv2.jsonl_read(f'responses/{model}.jsonl')\n",
    "    responses = [x['response']['body']['choices'][0]['message']['content'] for x in outputs]\n",
    "    \n",
    "    def verify_prompt(problem,qwq,answer):\n",
    "        return f\"\"\"Here's a problem:\\n{problem}\\n\\nSolution:\\n{qwq[-500:]}\\n\\nExtract just the final answer in LaTeX form (without wrappers like \\\\boxed), and return it and say nothing else.\"\"\"\n",
    "    \n",
    "    create_batch(\n",
    "        api_key='API-KEY',\n",
    "        prompts=[verify_prompt(x,y,z) for x,y,z in zip(ds['problem'],qwen25_responses,ds['solution'])],\n",
    "        model_name='unsloth/Qwen2.5-32B-Instruct',\n",
    "        output_file_name=f'answers/{model}.jsonl'\n",
    "    )"
   ]
  },
  {
   "cell_type": "markdown",
   "id": "4d7c3b88-6318-4479-8894-133925cc4a91",
   "metadata": {},
   "source": [
    "### Checking if extracted answer matches with the result"
   ]
  },
  {
   "cell_type": "code",
   "execution_count": null,
   "id": "abb25240-d8f1-4aeb-8042-f9b80864e7b6",
   "metadata": {},
   "outputs": [],
   "source": [
    "from iv2_utils import iv2 # Useful utility library you can get on PyPI: pip install iv2_utils\n",
    "from batch_utils import create_batch\n",
    "\n",
    "qwq_answers = iv2.json_read('answers/qwq.jsonl')\n",
    "qwen_answers = iv2.json_read('answers/qwen.jsonl')\n",
    "\n",
    "print(\"Example answer:\",qwq_answers[0])\n",
    "print(\"Example answer:\",qwen_answers[0])"
   ]
  },
  {
   "cell_type": "code",
   "execution_count": null,
   "id": "7e9d3520-3922-4534-8a83-d8daba17451a",
   "metadata": {},
   "outputs": [],
   "source": [
    "def create_answer_check_prompt(problem, attempt, answer):\n",
    "    return \"\"\"Do these two answers represent the same thing?\n",
    "\n",
    "First answer: {answer1}\n",
    "Correct answer: {answer2}\n",
    "\n",
    "Disregarding any units if there are any, like percentages or ^\\\\circ, degrees, etc., are these two answers equivalent? Simply reply 'Yes.' or 'No.'\n",
    "\"\"\".format(answer1 = attempt, answer2 = answer)\n",
    "\n",
    "create_batch(\n",
    "    api_key='API-KEY',\n",
    "    prompts=[create_answer_check_prompt(x,y,z) for x,y,z in list(zip(ds['problem'], qwq_answers, ds['answer']))],\n",
    "    model_name='unsloth/Qwen2.5-32B-Instruct',\n",
    "    output_file_name='qwq-final-math500.jsonl'\n",
    ")"
   ]
  },
  {
   "cell_type": "code",
   "execution_count": null,
   "id": "a6246161-7419-4ca4-9451-f04e6db97927",
   "metadata": {},
   "outputs": [],
   "source": [
    "create_batch(\n",
    "    api_key='API-KEY',\n",
    "    prompts=[create_answer_check_prompt(x,y,z) for x,y,z in list(zip(ds['problem'], qwen_answers, ds['answer']))],\n",
    "    model_name='unsloth/Qwen2.5-32B-Instruct',\n",
    "    output_file_name='qwen2.5-final-math500.jsonl'\n",
    ")"
   ]
  },
  {
   "cell_type": "code",
   "execution_count": null,
   "id": "3788f083-acbe-4e6a-a5b3-f043972ec660",
   "metadata": {},
   "outputs": [],
   "source": [
    "data = iv2.jsonl_read('qwq-final-math500.jsonl')\n",
    "data = [x['response']['body']['choices'][0]['message']['content'] for x in data]\n",
    "iv2.jsonl_write(data, file_name='qwq-final-math500.jsonl')\n",
    "\n",
    "data = iv2.jsonl_read('qwen2.5-final-math500.jsonl')\n",
    "data = [x['response']['body']['choices'][0]['message']['content'] for x in data]\n",
    "iv2.jsonl_write(data, file_name='qwen2.5-final-math500.jsonl')"
   ]
  },
  {
   "cell_type": "code",
   "execution_count": null,
   "id": "804e2b57-e568-497f-a503-c47b6ceb280c",
   "metadata": {},
   "outputs": [],
   "source": [
    "qwq_final = iv2.jsonl_read('qwq-final-math500.jsonl')\n",
    "qwen_final = iv2.jsonl_read('qwen2.5-final-math500.jsonl')\n",
    "\n",
    "\"\"\"\n",
    "I did a manual check of the outputs and found this special case where both QwQ 14B and Qwen2.5 14B got 10%\n",
    "and the answer was supposedly 10. In the context of that problem, they meant the same thing.\n",
    "\n",
    "The prompt could probably be improved though!\n",
    "\"\"\"\n",
    "qwq_final = ['yes' in x.lower() if qwq_answers[idx] != '10\\\\%' else True for idx,x in enumerate(qwq_final)]\n",
    "qwen_final = ['yes' in x.lower() if qwq_answers[idx] != '10\\\\%' else True for idx,x in enumerate(qwen_final)]"
   ]
  },
  {
   "cell_type": "code",
   "execution_count": null,
   "id": "7d1cadba-d425-4d6d-b74e-8471def5a195",
   "metadata": {},
   "outputs": [],
   "source": [
    "validated_qwq = Dataset.from_dict({\n",
    "    \"problem\": ds['problem'],\n",
    "    \"correct-solution\":ds['solution'],\n",
    "    'correct-answer':ds['answer'],\n",
    "    'qwq': qwq_responses,\n",
    "    'qwq-answer':qwq_answers,\n",
    "    'qwq-correct':qwq_final\n",
    "})\n",
    "validated_qwen = Dataset.from_dict({\n",
    "    \"problem\": ds['problem'],\n",
    "    \"correct-solution\":ds['solution'],\n",
    "    'correct-answer':ds['answer'],\n",
    "    'qwen': qwen25_responses,\n",
    "    'qwen-answer':qwen_answers,\n",
    "    'qwen-correct':qwen_final\n",
    "})\n",
    "validated_qwq.push_to_hub('QwQ-14B-v0.2-MATH500-Eval','qwq')\n",
    "validated_qwen.push_to_hub('QwQ-14B-v0.2-MATH500-Eval','qwen2.5')"
   ]
  }
 ],
 "metadata": {
  "kernelspec": {
   "display_name": "Python 3 (ipykernel)",
   "language": "python",
   "name": "python3"
  },
  "language_info": {
   "codemirror_mode": {
    "name": "ipython",
    "version": 3
   },
   "file_extension": ".py",
   "mimetype": "text/x-python",
   "name": "python",
   "nbconvert_exporter": "python",
   "pygments_lexer": "ipython3",
   "version": "3.12.6"
  }
 },
 "nbformat": 4,
 "nbformat_minor": 5
}
